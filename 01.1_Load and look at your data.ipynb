{
 "cells": [
  {
   "cell_type": "markdown",
   "metadata": {},
   "source": [
    "<font color = \"#c4281a\" size=\"3\"> \n",
    "    <b> \n",
    "     Pandas for everyone  \n",
    "    </b>\n",
    "</font>\n",
    "<font color = \"#2462c7\" size=\"2\"> \n",
    "    <b> \n",
    "     Chapter 1 - How to look at the data\n",
    "    </b>\n",
    "</font>\n",
    "<font color = \"#535861\" size=\"2\"> \n",
    "    <P>\n",
    "     C1.1 - Create Series <BR>\n",
    "     C1.2 - Create Pandas <BR>\n",
    "     C1.3 - Different ways to book at the data <BR>\n",
    "        C1.31 - type() <BR>\n",
    "        C1.32 - .shape <BR>\n",
    "        C1.33 - .columns <BR>\n",
    "        C1.34 - .dtypes <BR>\n",
    "        C1.35 - .info() <BR>\n",
    "     </P>\n",
    "</font>"
   ]
  },
  {
   "cell_type": "markdown",
   "metadata": {},
   "source": [
    "<font color = \"#2462c7\" size=\"2\"> \n",
    "    <b> \n",
    "     C1.1 - Create Series\n",
    "    </b>\n",
    "</font>"
   ]
  },
  {
   "cell_type": "code",
   "execution_count": 1,
   "metadata": {},
   "outputs": [],
   "source": [
    "# Create a list\n",
    "var = ['peter','mary']"
   ]
  },
  {
   "cell_type": "code",
   "execution_count": 2,
   "metadata": {},
   "outputs": [
    {
     "data": {
      "text/plain": [
       "0    peter\n",
       "1     mary\n",
       "dtype: object"
      ]
     },
     "execution_count": 2,
     "metadata": {},
     "output_type": "execute_result"
    }
   ],
   "source": [
    "# Create a Series\n",
    "import pandas as pd\n",
    "df = pd.Series(var)\n",
    "df"
   ]
  },
  {
   "cell_type": "markdown",
   "metadata": {},
   "source": [
    "<font color = \"#2462c7\" size=\"2\"> \n",
    "    <b> \n",
    "     C1.2 - Create Dataframe\n",
    "    </b>\n",
    "</font>\n",
    "<font color = \"#535861\" size=\"2\"> \n",
    "    <P>\n",
    "     1 - Create DataFrame <BR>\n",
    "     2 - Add index to dataframe <BR>\n",
    "     3 - order of columns <BR>\n",
    "     </P>\n",
    "</font>"
   ]
  },
  {
   "cell_type": "code",
   "execution_count": 3,
   "metadata": {},
   "outputs": [],
   "source": [
    "# Create Dataframe data\n",
    "import pandas as pd\n",
    "label = ['Name','age','gender']\n",
    "value = [['peter','mary','Paul'],[2,3,4],['M','F','M']]"
   ]
  },
  {
   "cell_type": "code",
   "execution_count": 4,
   "metadata": {
    "scrolled": true
   },
   "outputs": [
    {
     "data": {
      "text/html": [
       "<div>\n",
       "<style scoped>\n",
       "    .dataframe tbody tr th:only-of-type {\n",
       "        vertical-align: middle;\n",
       "    }\n",
       "\n",
       "    .dataframe tbody tr th {\n",
       "        vertical-align: top;\n",
       "    }\n",
       "\n",
       "    .dataframe thead th {\n",
       "        text-align: right;\n",
       "    }\n",
       "</style>\n",
       "<table border=\"1\" class=\"dataframe\">\n",
       "  <thead>\n",
       "    <tr style=\"text-align: right;\">\n",
       "      <th></th>\n",
       "      <th>Name</th>\n",
       "      <th>age</th>\n",
       "      <th>gender</th>\n",
       "    </tr>\n",
       "  </thead>\n",
       "  <tbody>\n",
       "    <tr>\n",
       "      <th>0</th>\n",
       "      <td>peter</td>\n",
       "      <td>2</td>\n",
       "      <td>M</td>\n",
       "    </tr>\n",
       "    <tr>\n",
       "      <th>1</th>\n",
       "      <td>mary</td>\n",
       "      <td>3</td>\n",
       "      <td>F</td>\n",
       "    </tr>\n",
       "    <tr>\n",
       "      <th>2</th>\n",
       "      <td>Paul</td>\n",
       "      <td>4</td>\n",
       "      <td>M</td>\n",
       "    </tr>\n",
       "  </tbody>\n",
       "</table>\n",
       "</div>"
      ],
      "text/plain": [
       "    Name  age gender\n",
       "0  peter    2      M\n",
       "1   mary    3      F\n",
       "2   Paul    4      M"
      ]
     },
     "execution_count": 4,
     "metadata": {},
     "output_type": "execute_result"
    }
   ],
   "source": [
    "# Create Dataframe\n",
    "df2 = pd.DataFrame(dict(list(zip(label,value))))\n",
    "df2"
   ]
  },
  {
   "cell_type": "markdown",
   "metadata": {},
   "source": [
    "<font color = \"#2462c7\" size=\"2\"> \n",
    "    <b> \n",
    "     c1.31 - Type\n",
    "    </b>\n",
    "</font>\n",
    "<font color = \"#535861\" size=\"2\"> \n",
    "    <P>\n",
    "     Remarks : type is handy when you want to get teh types of object\n",
    "     </P>\n",
    "</font>"
   ]
  },
  {
   "cell_type": "code",
   "execution_count": 5,
   "metadata": {},
   "outputs": [
    {
     "name": "stdout",
     "output_type": "stream",
     "text": [
      "<class 'pandas.core.frame.DataFrame'>\n"
     ]
    }
   ],
   "source": [
    "# look at the type of the object\n",
    "#\n",
    "print(type(df2))"
   ]
  },
  {
   "cell_type": "markdown",
   "metadata": {},
   "source": [
    "<font color = \"#2462c7\" size=\"2\"> \n",
    "    <b> \n",
    "     c1.32 - Shape\n",
    "    </b>\n",
    "</font>\n",
    "<font color = \"#535861\" size=\"2\"> \n",
    "    <P>\n",
    "     Remarks : shape return tuple with rows and coluns <BR>\n",
    "     *it is a attribute, not method of dataframe\n",
    "     *typicall, you want to get a gist of how many record into it\n",
    "     </P>\n",
    "</font>"
   ]
  },
  {
   "cell_type": "code",
   "execution_count": 6,
   "metadata": {
    "scrolled": false
   },
   "outputs": [
    {
     "data": {
      "text/plain": [
       "(3, 3)"
      ]
     },
     "execution_count": 6,
     "metadata": {},
     "output_type": "execute_result"
    }
   ],
   "source": [
    "df2.shape"
   ]
  },
  {
   "cell_type": "markdown",
   "metadata": {},
   "source": [
    "<font color = \"#2462c7\" size=\"2\"> \n",
    "    <b> \n",
    "     c1.33 - .columns\n",
    "    </b>\n",
    "</font>\n",
    "<font color = \"#535861\" size=\"2\"> \n",
    "    <P>\n",
    "     Remarks : columns is a attribute <BR>\n",
    "     </P>\n",
    "</font>"
   ]
  },
  {
   "cell_type": "code",
   "execution_count": 7,
   "metadata": {
    "scrolled": true
   },
   "outputs": [
    {
     "data": {
      "text/plain": [
       "Index(['Name', 'age', 'gender'], dtype='object')"
      ]
     },
     "execution_count": 7,
     "metadata": {},
     "output_type": "execute_result"
    }
   ],
   "source": [
    "df2.columns"
   ]
  },
  {
   "cell_type": "markdown",
   "metadata": {},
   "source": [
    "<font color = \"#2462c7\" size=\"2\"> \n",
    "    <b> \n",
    "     c1.34 - .dtypes\n",
    "    </b>\n",
    "</font>\n",
    "<font color = \"#535861\" size=\"2\"> \n",
    "    <P>\n",
    "     Remarks : show the types of each columns <BR>\n",
    "     </P>\n",
    "</font>"
   ]
  },
  {
   "cell_type": "code",
   "execution_count": 8,
   "metadata": {
    "scrolled": true
   },
   "outputs": [
    {
     "name": "stdout",
     "output_type": "stream",
     "text": [
      "Name      object\n",
      "age        int64\n",
      "gender    object\n",
      "dtype: object\n"
     ]
    }
   ],
   "source": [
    "print(df2.dtypes)"
   ]
  },
  {
   "cell_type": "markdown",
   "metadata": {},
   "source": [
    "<font color = \"#2462c7\" size=\"2\"> \n",
    "    <b> \n",
    "     c1.35 - .info()\n",
    "    </b>\n",
    "</font>\n",
    "<font color = \"#535861\" size=\"2\"> \n",
    "    <P>\n",
    "     Remarks : Get more information about the dataframe, e.g. range and entry <BR>\n",
    "     </P>\n",
    "</font>"
   ]
  },
  {
   "cell_type": "code",
   "execution_count": 9,
   "metadata": {},
   "outputs": [
    {
     "name": "stdout",
     "output_type": "stream",
     "text": [
      "<class 'pandas.core.frame.DataFrame'>\n",
      "RangeIndex: 3 entries, 0 to 2\n",
      "Data columns (total 3 columns):\n",
      "Name      3 non-null object\n",
      "age       3 non-null int64\n",
      "gender    3 non-null object\n",
      "dtypes: int64(1), object(2)\n",
      "memory usage: 152.0+ bytes\n",
      "None\n"
     ]
    }
   ],
   "source": [
    "print(df2.info())"
   ]
  }
 ],
 "metadata": {
  "kernelspec": {
   "display_name": "Python 3",
   "language": "python",
   "name": "python3"
  },
  "language_info": {
   "codemirror_mode": {
    "name": "ipython",
    "version": 3
   },
   "file_extension": ".py",
   "mimetype": "text/x-python",
   "name": "python",
   "nbconvert_exporter": "python",
   "pygments_lexer": "ipython3",
   "version": "3.7.0"
  },
  "toc": {
   "base_numbering": 1,
   "nav_menu": {},
   "number_sections": true,
   "sideBar": true,
   "skip_h1_title": false,
   "title_cell": "Table of Contents",
   "title_sidebar": "Contents",
   "toc_cell": false,
   "toc_position": {},
   "toc_section_display": true,
   "toc_window_display": false
  }
 },
 "nbformat": 4,
 "nbformat_minor": 2
}
